{
 "cells": [
  {
   "cell_type": "code",
   "execution_count": 1,
   "metadata": {},
   "outputs": [
    {
     "ename": "ModuleNotFoundError",
     "evalue": "No module named 'graphcast'",
     "output_type": "error",
     "traceback": [
      "\u001b[0;31m---------------------------------------------------------------------------\u001b[0m",
      "\u001b[0;31mModuleNotFoundError\u001b[0m                       Traceback (most recent call last)",
      "Cell \u001b[0;32mIn[1], line 1\u001b[0m\n\u001b[0;32m----> 1\u001b[0m \u001b[38;5;28;01mfrom\u001b[39;00m \u001b[38;5;21;01mgraphcast\u001b[39;00m \u001b[38;5;28;01mimport\u001b[39;00m solar_radiation\n\u001b[1;32m      2\u001b[0m \u001b[38;5;28;01mimport\u001b[39;00m \u001b[38;5;21;01mnumpy\u001b[39;00m \u001b[38;5;28;01mas\u001b[39;00m \u001b[38;5;21;01mnp\u001b[39;00m\n\u001b[1;32m      3\u001b[0m \u001b[38;5;28;01mimport\u001b[39;00m \u001b[38;5;21;01mpandas\u001b[39;00m \u001b[38;5;28;01mas\u001b[39;00m \u001b[38;5;21;01mpd\u001b[39;00m\n",
      "\u001b[0;31mModuleNotFoundError\u001b[0m: No module named 'graphcast'"
     ]
    }
   ],
   "source": [
    "from graphcast import solar_radiation\n",
    "import numpy as np\n",
    "import pandas as pd\n",
    "import xarray\n",
    "\n",
    "def extract_inputs_targets_forcings(\n",
    "    dataset: xarray.Dataset,\n",
    "    *,\n",
    "    input_variables: Tuple[str, ...],\n",
    "    target_variables: Tuple[str, ...],\n",
    "    input_duration: TimedeltaLike,\n",
    "    target_lead_times: TargetLeadTimes,\n",
    "    ) -> Tuple[xarray.Dataset, xarray.Dataset, xarray.Dataset]:\n",
    "\n",
    "  dataset = dataset.sel(level=list(pressure_levels))\n",
    "\n",
    "  if set(forcing_variables) & _DERIVED_VARS:\n",
    "    add_derived_vars(dataset)\n",
    "  if set(forcing_variables) & {TISR}:\n",
    "    add_tisr_var(dataset)\n",
    "\n",
    "  # `datetime` is needed by add_derived_vars but breaks autoregressive rollouts.\n",
    "  dataset = dataset.drop_vars(\"datetime\")\n",
    "\n",
    "  inputs, targets = extract_input_target_times(\n",
    "      dataset,\n",
    "      input_duration=input_duration,\n",
    "      target_lead_times=target_lead_times)\n",
    "\n",
    "  if set(forcing_variables) & set(target_variables):\n",
    "    raise ValueError(\n",
    "        f\"Forcing variables {forcing_variables} should not \"\n",
    "        f\"overlap with target variables {target_variables}.\"\n",
    "    )\n",
    "\n",
    "  inputs = inputs[list(input_variables)]\n",
    "  # The forcing uses the same time coordinates as the target.\n",
    "  forcings = targets[list(forcing_variables)]\n",
    "  targets = targets[list(target_variables)]\n",
    "\n",
    "  return inputs, targets, forcings"
   ]
  }
 ],
 "metadata": {
  "language_info": {
   "name": "python"
  }
 },
 "nbformat": 4,
 "nbformat_minor": 2
}
